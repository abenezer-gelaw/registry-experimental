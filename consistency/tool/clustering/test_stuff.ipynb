{
 "cells": [
  {
   "cell_type": "code",
   "execution_count": 14,
   "metadata": {},
   "outputs": [
    {
     "name": "stdout",
     "output_type": "stream",
     "text": [
      "simple ***** [{'name': 'artifact1', 'schemas': [{'word': 'ab', 'count': 2}, {'word': 'bc', 'count': 1}, {'word': 'cd', 'count': 1}], 'properties': [{'word': 'ab', 'count': 2}, {'word': 'bc', 'count': 1}, {'word': 'cd', 'count': 1}], 'operations': [{'word': 'ab', 'count': 2}, {'word': 'bc', 'count': 1}, {'word': 'cd', 'count': 1}], 'parameters': [{'word': 'ab', 'count': 2}, {'word': 'bc', 'count': 1}, {'word': 'cd', 'count': 1}]}]\n",
      "simple2 ***** [{'name': 'artifact1', 'schemas': [{'word': 'ab', 'count': 2}, {'word': 'bc', 'count': 1}, {'word': 'cd', 'count': 1}], 'properties': [{'word': 'ab', 'count': 2}, {'word': 'bc', 'count': 1}, {'word': 'cd', 'count': 1}], 'operations': [{'word': 'ab', 'count': 2}, {'word': 'bc', 'count': 1}, {'word': 'cd', 'count': 1}], 'parameters': [{'word': 'ab', 'count': 2}, {'word': 'bc', 'count': 1}, {'word': 'cd', 'count': 1}]}]\n"
     ]
    }
   ],
   "source": [
    "import json\n",
    "vocabs = []\n",
    "with open('/home/gelaw/work-stuff/gocode/src/registry-experimental/consistency/tool/clustering/word_extraction_test.json', 'r') as myfile:\n",
    "    data=myfile.read()\n",
    "\n",
    "        # parse file\n",
    "    obj = json.loads(data)\n",
    "for i in obj:\n",
    "    print(i, \"*****\", obj[i])\n"
   ]
  },
  {
   "cell_type": "code",
   "execution_count": 8,
   "metadata": {},
   "outputs": [
    {
     "name": "stdout",
     "output_type": "stream",
     "text": [
      "simple\n",
      "[{'name': 'artifact1', 'schemas': [{'word': 'ab', 'count': 2}, {'word': 'bc', 'count': 1}, {'word': 'cd', 'count': 1}], 'properties': [{'word': 'ab', 'count': 2}, {'word': 'bc', 'count': 1}, {'word': 'cd', 'count': 1}], 'operations': [{'word': 'ab', 'count': 2}, {'word': 'bc', 'count': 1}, {'word': 'cd', 'count': 1}], 'parameters': [{'word': 'ab', 'count': 2}, {'word': 'bc', 'count': 1}, {'word': 'cd', 'count': 1}]}]\n",
      "simple2\n",
      "[{'name': 'artifact1', 'schemas': [{'word': 'ab', 'count': 2}, {'word': 'bc', 'count': 1}, {'word': 'cd', 'count': 1}], 'properties': [{'word': 'ab', 'count': 2}, {'word': 'bc', 'count': 1}, {'word': 'cd', 'count': 1}], 'operations': [{'word': 'ab', 'count': 2}, {'word': 'bc', 'count': 1}, {'word': 'cd', 'count': 1}], 'parameters': [{'word': 'ab', 'count': 2}, {'word': 'bc', 'count': 1}, {'word': 'cd', 'count': 1}]}]\n"
     ]
    }
   ],
   "source": [
    "for key, value in obj.items():\n",
    "    print(key)\n",
    "    print(value)"
   ]
  },
  {
   "cell_type": "code",
   "execution_count": 23,
   "metadata": {},
   "outputs": [
    {
     "name": "stdout",
     "output_type": "stream",
     "text": [
      "{'name': 'artifact1', 'schemas': [{'word': 'ab', 'count': 2}, {'word': 'bc', 'count': 1}, {'word': 'cd', 'count': 1}], 'properties': [{'word': 'ab', 'count': 2}, {'word': 'bc', 'count': 1}, {'word': 'cd', 'count': 1}], 'operations': [{'word': 'ab', 'count': 2}, {'word': 'bc', 'count': 1}, {'word': 'cd', 'count': 1}], 'parameters': [{'word': 'ab', 'count': 2}, {'word': 'bc', 'count': 1}, {'word': 'cd', 'count': 1}]}\n"
     ]
    }
   ],
   "source": [
    "with open('/home/gelaw/work-stuff/gocode/src/registry-experimental/consistency/tool/clustering/word_extraction_test.json', 'r') as myfile:\n",
    "    data=myfile.read()\n",
    "\n",
    "        # parse file\n",
    "    obj = json.loads(data)\n",
    "    n = 1\n",
    "    for key, value in obj.items():\n",
    "        if n <2:\n",
    "            print(value[0])\n",
    "            n+=1"
   ]
  },
  {
   "cell_type": "code",
   "execution_count": 22,
   "metadata": {},
   "outputs": [
    {
     "name": "stdout",
     "output_type": "stream",
     "text": [
      "{'name': 'artifact1', 'schemas': [{'word': 'ab', 'count': 2}, {'word': 'bc', 'count': 1}, {'word': 'cd', 'count': 1}], 'properties': [{'word': 'ab', 'count': 2}, {'word': 'bc', 'count': 1}, {'word': 'cd', 'count': 1}], 'operations': [{'word': 'ab', 'count': 2}, {'word': 'bc', 'count': 1}, {'word': 'cd', 'count': 1}], 'parameters': [{'word': 'ab', 'count': 2}, {'word': 'bc', 'count': 1}, {'word': 'cd', 'count': 1}]}\n"
     ]
    }
   ],
   "source": [
    "i = 0\n",
    "fake_artifact_json = obj['simple'][i]\n",
    "print(fake_artifact_json)\n"
   ]
  },
  {
   "cell_type": "code",
   "execution_count": 24,
   "metadata": {},
   "outputs": [
    {
     "name": "stdout",
     "output_type": "stream",
     "text": [
      "[(1, 3, 4)]\n"
     ]
    }
   ],
   "source": [
    "list1 = []\n",
    "list1.append((1,3,4))\n",
    "print(list1)"
   ]
  }
 ],
 "metadata": {
  "kernelspec": {
   "display_name": "Python 3.9.2 ('my_env': venv)",
   "language": "python",
   "name": "python3"
  },
  "language_info": {
   "codemirror_mode": {
    "name": "ipython",
    "version": 3
   },
   "file_extension": ".py",
   "mimetype": "text/x-python",
   "name": "python",
   "nbconvert_exporter": "python",
   "pygments_lexer": "ipython3",
   "version": "3.9.2"
  },
  "orig_nbformat": 4,
  "vscode": {
   "interpreter": {
    "hash": "8b89b4fd2f47c6669f6d72ea240dbbfb7e21fe0d527259cba3d8b605618a2a19"
   }
  }
 },
 "nbformat": 4,
 "nbformat_minor": 2
}
