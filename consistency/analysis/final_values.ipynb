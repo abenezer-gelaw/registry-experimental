{
 "cells": [
  {
   "cell_type": "code",
   "execution_count": 10,
   "metadata": {},
   "outputs": [],
   "source": [
    "%pip install pandas\n",
    "import numpy as np\n",
    "import pandas as pd\n",
    "from sklearn.cluster import dbscan\n",
    "from strsimpy.sorensen_dice import SorensenDice\n",
    "from sklearn.metrics.cluster import homogeneity_score\n",
    "from sklearn.metrics.cluster import completeness_score \n",
    "from sklearn.metrics.cluster import v_measure_score\n",
    "from sklearn.cluster import dbscan\n",
    "\n",
    "tagged_df = pd.read_csv (r'/home/gelaw/work-stuff/gocode/src/registry-experimental/consistency/rpc/google/cloud/apigeeregistry/v1/similarity/analysis/vocab1000.csv')\n",
    "tagged_df = tagged_df.drop(tagged_df.index[1000:])\n",
    "word_labels = tagged_df.iloc[:, 0]\n",
    "word_labels = word_labels.to_numpy()\n",
    "tagged_words = tagged_df.iloc[:, 1]\n",
    "tagged_words = tagged_words.to_numpy()\n",
    "data = tagged_words\n",
    "X = np.arange(len(data)).reshape(-1, 1)\n",
    "dice = SorensenDice(2)\n",
    "def compute_predicted_lables(data, algorithm, dbscan_eps, dbscan_min_samples):\n",
    "    db = dbscan(data, metric=algorithm, eps=dbscan_eps, min_samples=dbscan_min_samples, algorithm='brute')\n",
    "    return db[1]\n",
    "def extract_indices_dice(x, y):\n",
    "    i, j = int(x[0]), int(y[0])     # extract indices\n",
    "    return dice.distance(data[i], data[j])\n"
   ]
  },
  {
   "cell_type": "code",
   "execution_count": 1,
   "metadata": {},
   "outputs": [
    {
     "name": "stdout",
     "output_type": "stream",
     "text": [
      "Defaulting to user installation because normal site-packages is not writeable\n",
      "Requirement already satisfied: pandas in /home/gelaw/.local/lib/python3.9/site-packages (1.4.2)\n",
      "Requirement already satisfied: pytz>=2020.1 in /home/gelaw/.local/lib/python3.9/site-packages (from pandas) (2022.1)\n",
      "Requirement already satisfied: python-dateutil>=2.8.1 in /home/gelaw/.local/lib/python3.9/site-packages (from pandas) (2.8.2)\n",
      "Requirement already satisfied: numpy>=1.18.5 in /home/gelaw/.local/lib/python3.9/site-packages (from pandas) (1.22.4)\n",
      "Requirement already satisfied: six>=1.5 in /home/gelaw/.local/lib/python3.9/site-packages (from python-dateutil>=2.8.1->pandas) (1.16.0)\n",
      "Note: you may need to restart the kernel to use updated packages.\n"
     ]
    }
   ],
   "source": [
    "%pip install pandas "
   ]
  },
  {
   "cell_type": "code",
   "execution_count": 11,
   "metadata": {},
   "outputs": [],
   "source": [
    "\n",
    "lables = compute_predicted_lables(data = X, algorithm = extract_indices_dice, dbscan_eps = .3, dbscan_min_samples = 2)\n"
   ]
  },
  {
   "cell_type": "code",
   "execution_count": 12,
   "metadata": {},
   "outputs": [
    {
     "name": "stdout",
     "output_type": "stream",
     "text": [
      " the best v measure score for dice is:  89.0%\n",
      " the completeness score for dice is:  97.0%\n",
      " the homogeniety score for dice is:  82.0%\n"
     ]
    }
   ],
   "source": [
    "v = v_measure_score(word_labels, lables)\n",
    "c = completeness_score(word_labels, lables)\n",
    "h = homogeneity_score(word_labels, lables)\n",
    "\n",
    "print(\" the best v measure score for dice is: \", str(round(v,2)*100) + \"%\")\n",
    "print(\" the completeness score for dice is: \", str(round(c,2)*100) + \"%\")\n",
    "print(\" the homogeniety score for dice is: \", str(round(h,2)*100) + \"%\")"
   ]
  },
  {
   "cell_type": "code",
   "execution_count": null,
   "metadata": {},
   "outputs": [],
   "source": []
  }
 ],
 "metadata": {
  "interpreter": {
   "hash": "916dbcbb3f70747c44a77c7bcd40155683ae19c65e1c03b4aa3499c5328201f1"
  },
  "kernelspec": {
   "display_name": "Python 3.9.2 64-bit",
   "language": "python",
   "name": "python3"
  },
  "language_info": {
   "codemirror_mode": {
    "name": "ipython",
    "version": 3
   },
   "file_extension": ".py",
   "mimetype": "text/x-python",
   "name": "python",
   "nbconvert_exporter": "python",
   "pygments_lexer": "ipython3",
   "version": "3.9.2"
  },
  "orig_nbformat": 4
 },
 "nbformat": 4,
 "nbformat_minor": 2
}
